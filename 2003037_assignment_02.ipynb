{
  "cells": [
    {
      "cell_type": "code",
      "execution_count": null,
      "metadata": {
        "id": "fatfarVo-FkW"
      },
      "outputs": [],
      "source": [
        "import numpy as np\n",
        "import matplotlib.pyplot as plt\n",
        "from sympy import symbols, Symbol, exp"
      ]
    },
    {
      "cell_type": "code",
      "execution_count": null,
      "metadata": {
        "id": "Im4yCSOa-MYD"
      },
      "outputs": [],
      "source": [
        "def get_z_transform(sequence_type, *params):\n",
        "    \"\"\"Calculate Z-transform for different sequences\"\"\"\n",
        "    z = Symbol('z')\n",
        "\n",
        "    if sequence_type == \"exponential\":\n",
        "        a = params[0]\n",
        "        transform = z / (z - a)\n",
        "        roc = f\"|z| > {abs(a)}\"\n",
        "    elif sequence_type == \"sum_exponential\":\n",
        "        a1, a2 = params\n",
        "        max_a = max(abs(a1), abs(a2))\n",
        "        transform = z/(z - a1) + z/(z - a2)\n",
        "        roc = f\"|z| > {max_a}\"\n",
        "    elif sequence_type == \"sinusoidal\":\n",
        "        w = params[0]\n",
        "        transform = z * np.sin(w) / (z**2 - 2*z*np.cos(w) + 1)\n",
        "        roc = \"|z| > 1\"\n",
        "\n",
        "    return transform, roc"
      ]
    },
    {
      "cell_type": "code",
      "execution_count": null,
      "metadata": {
        "id": "QCjNXg1ADfxh"
      },
      "outputs": [],
      "source": [
        "def plot_roc(roc_condition):\n",
        "    \"\"\"Simple ROC plot\"\"\"\n",
        "    # Extract radius value from ROC condition\n",
        "    if 'max' in roc_condition:\n",
        "        # Handle case with max() in ROC\n",
        "        numbers = [float(x.strip()) for x in roc_condition.split('>')[-1].strip('max() ').split(',')]\n",
        "        radius = max(numbers)\n",
        "    else:\n",
        "        # Handle simple case\n",
        "        radius = float(roc_condition.split('>')[-1].strip())\n",
        "\n",
        "    theta = np.linspace(0, 2*np.pi, 100)\n",
        "    x = radius * np.cos(theta)\n",
        "    y = radius * np.sin(theta)\n",
        "\n",
        "    plt.figure(figsize=(4, 4))\n",
        "    plt.plot(x, y, 'r--', label='ROC Boundary')\n",
        "    plt.grid(True)\n",
        "    plt.axis('equal')\n",
        "    plt.title(f'ROC: {roc_condition}')\n",
        "    plt.xlabel('Re(z)')\n",
        "    plt.ylabel('Im(z)')\n",
        "    plt.show()\n",
        "\n",
        "def plot_frequency_response(z_transform, show_magnitude=True, show_phase=True):\n",
        "    \"\"\"\n",
        "    Plot frequency response with toggleable magnitude and phase\n",
        "    \"\"\"\n",
        "    theta = np.linspace(0, 2*np.pi, 500)\n",
        "    z_values = np.exp(1j * theta)\n",
        "    z = Symbol('z')\n",
        "\n",
        "    response = [complex(z_transform.subs(z, z_val)) for z_val in z_values]\n",
        "    magnitude = np.abs(response)\n",
        "    phase = np.angle(response)\n",
        "\n",
        "    if show_magnitude or show_phase:\n",
        "        if show_magnitude and show_phase:\n",
        "            fig, (ax1, ax2) = plt.subplots(2, 1, figsize=(8, 8))\n",
        "\n",
        "            ax1.plot(theta, magnitude)\n",
        "            ax1.set_title('Magnitude Response')\n",
        "            ax1.set_xlabel('Frequency (radians)')\n",
        "            ax1.set_ylabel('Magnitude')\n",
        "            ax1.grid(True)\n",
        "\n",
        "            ax2.plot(theta, phase)\n",
        "            ax2.set_title('Phase Response')\n",
        "            ax2.set_xlabel('Frequency (radians)')\n",
        "            ax2.set_ylabel('Phase (radians)')\n",
        "            ax2.grid(True)\n",
        "\n",
        "            plt.tight_layout()\n",
        "\n",
        "        elif show_magnitude:\n",
        "            plt.figure(figsize=(4, 4))\n",
        "            plt.plot(theta, magnitude)\n",
        "            plt.title('Magnitude Response')\n",
        "            plt.xlabel('Frequency (radians)')\n",
        "            plt.ylabel('Magnitude')\n",
        "            plt.grid(True)\n",
        "\n",
        "        else:  # show_phase only\n",
        "            plt.figure(figsize=(6, 4))\n",
        "            plt.plot(theta, phase)\n",
        "            plt.title('Phase Response')\n",
        "            plt.xlabel('Frequency (radians)')\n",
        "            plt.ylabel('Phase (radians)')\n",
        "            plt.grid(True)\n",
        "\n",
        "        plt.show()\n"
      ]
    },
    {
      "cell_type": "code",
      "execution_count": null,
      "metadata": {
        "id": "SGiaC68UL73a"
      },
      "outputs": [],
      "source": [
        "def solver(header, sequence_type, show_mag_phase=True, *params):\n",
        "    \"\"\"Solve and plot Z-transform for different sequences\"\"\"\n",
        "    print(header)\n",
        "    transform, roc = get_z_transform(sequence_type, *params)\n",
        "    print(f\"Z-transform: {transform}\")\n",
        "    print(f\"ROC: {roc}\")\n",
        "    plot_roc(roc)\n",
        "    plot_frequency_response(transform, show_magnitude=show_mag_phase, show_phase=show_mag_phase)"
      ]
    },
    {
      "cell_type": "code",
      "execution_count": null,
      "metadata": {
        "colab": {
          "base_uri": "https://localhost:8080/",
          "height": 462
        },
        "id": "QPtJYOeHBEc3",
        "outputId": "d06cc6ed-4948-4fcf-b347-9ba3cfecb2d1"
      },
      "outputs": [],
      "source": [
        "solver(\"1. Sequence: 3^n*u[n]\", \"exponential\", False, 3)"
      ]
    },
    {
      "cell_type": "code",
      "execution_count": null,
      "metadata": {
        "colab": {
          "base_uri": "https://localhost:8080/",
          "height": 462
        },
        "id": "OZEdLqNdGgyc",
        "outputId": "ebb0771a-cdd0-433c-bb0c-617040976d03"
      },
      "outputs": [],
      "source": [
        "solver(\"2. Sequence: 2^n*u[n] + 3^n*u[n]\", \"sum_exponential\", False, 2, 3)"
      ]
    },
    {
      "cell_type": "code",
      "execution_count": null,
      "metadata": {
        "colab": {
          "base_uri": "https://localhost:8080/",
          "height": 1000
        },
        "id": "Nre-UIq_HJqD",
        "outputId": "c4396e3c-c6b0-4b0c-8aa9-ca75ffd02987"
      },
      "outputs": [],
      "source": [
        "solver(\"3. Sequence: e^(-0.2n)*u[n]\", \"exponential\", True, np.exp(-0.2))"
      ]
    },
    {
      "cell_type": "code",
      "execution_count": null,
      "metadata": {
        "colab": {
          "base_uri": "https://localhost:8080/",
          "height": 1000
        },
        "id": "2BORZvDUHasr",
        "outputId": "73cc70a4-d9dc-46e9-dad6-32221b4de197"
      },
      "outputs": [],
      "source": [
        "solver(\"4. Sequence: sin(πn/4)u[n]\", \"sinusoidal\", True, np.pi/4)"
      ]
    }
  ],
  "metadata": {
    "colab": {
      "collapsed_sections": [
        "el34q7na-QwU",
        "c56yJ0ZmDbPW",
        "IV70HNEyCyoK",
        "NNpz83BoFyox",
        "O_0FZcifGZ8a",
        "Vxe7wFfWG_gE",
        "kC6pGT2RHV52"
      ],
      "provenance": []
    },
    "kernelspec": {
      "display_name": "Python 3",
      "name": "python3"
    },
    "language_info": {
      "name": "python",
      "version": "3.13.1"
    }
  },
  "nbformat": 4,
  "nbformat_minor": 0
}
